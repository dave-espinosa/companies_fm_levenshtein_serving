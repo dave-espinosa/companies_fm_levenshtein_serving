{
 "cells": [
  {
   "cell_type": "markdown",
   "metadata": {},
   "source": [
    "<center> <h1>\"Companies\" Fuzzy-Matching with Levenshtein Algorithm</h1> </center>\n",
    "<center> <h3>Developed during Sprint#8</h2> </center>\n",
    "<center> <h4>ML Devs Agustina Dinamarca & Karla Aviles</h2> </center>"
   ]
  },
  {
   "cell_type": "markdown",
   "metadata": {},
   "source": [
    "## Description\n",
    "\n",
    "This notebook deals with fuzzy-matching based on Levenshtein's algorithm for application to company names.\n",
    "\n",
    "Two versions of the fuzzy-matching function were implemented for this use case, which differ in the type of input received by the function:\n",
    "\n",
    "* Version \"v1\" receives as input a list of company names (strings).\n",
    "* Version \"v2\" receives as input only one company name (string) so that this case must be used in a for-loop if it is to be applied to a set of companies."
   ]
  },
  {
   "cell_type": "code",
   "execution_count": null,
   "metadata": {},
   "outputs": [],
   "source": [
    "# UNCOMMENT THE FOLLOWING LINE IF REQUIRED\n",
    "# !pip install Levenshtein"
   ]
  },
  {
   "cell_type": "markdown",
   "metadata": {},
   "source": [
    "### Libraries"
   ]
  },
  {
   "cell_type": "code",
   "execution_count": 1,
   "metadata": {},
   "outputs": [],
   "source": [
    "import Levenshtein\n",
    "import nltk\n",
    "import os\n",
    "import pandas as pd\n",
    "import re\n",
    "import time\n",
    "\n",
    "from nltk.corpus import stopwords"
   ]
  },
  {
   "cell_type": "markdown",
   "metadata": {},
   "source": [
    "### User-defined functions"
   ]
  },
  {
   "cell_type": "code",
   "execution_count": 2,
   "metadata": {},
   "outputs": [],
   "source": [
    "def clean_query_v1(query:list):\n",
    "    \"\"\"\n",
    "    Cleaning of company names from a list of companies\n",
    "    \n",
    "    Parameters\n",
    "    ----------\n",
    "    \n",
    "    query : list\n",
    "        List of company names\n",
    "    \n",
    "    Returns\n",
    "    -------\n",
    "    \n",
    "    query_cleaned : list\n",
    "        List of company names cleaned\n",
    "        \n",
    "    \"\"\"\n",
    "    patterns = r\"\"\"[!+?:\"\\,<>\\\\(){}@%$#=*/[/-]\"\"\"\n",
    "    stpwrds = stopwords.words('spanish') + stopwords.words('english')\n",
    "    query_lst = [re.sub(patterns, \" \", q.lower()) for q in query]\n",
    "    query_lst = [[x for x in q.split() if x not in stpwrds] for q in query_lst]\n",
    "    query_cleaned = [' '.join(w for w in q) for q in query_lst]\n",
    "    return query_cleaned\n",
    "\n",
    "\n",
    "def apply_fuzzy_matching_levenshtein_v1(df, query:list, topk=5):\n",
    "    \"\"\"\n",
    "    Applies fuzzy-matching (Levenshtein) to a query of company names to find the main name of the companies\n",
    "    \n",
    "    Parameters\n",
    "    ----------\n",
    "    \n",
    "    df : Pandas DataFrame\n",
    "        Company names dictionary dataframe\n",
    "        \n",
    "    query : list\n",
    "        List of company names\n",
    "    \n",
    "    topk : int (default=5)\n",
    "        Number of the most probable matches to return per company name\n",
    "        \n",
    "    Returns\n",
    "    -------\n",
    "    \n",
    "    results: list\n",
    "        List of topk results per company name\n",
    "    \n",
    "    \"\"\"\n",
    "    query_cleaned = clean_query_v1(query)\n",
    "    results = []\n",
    "    for i in range(len(query)):\n",
    "        df_filtered = df[df[\"alternate_title\"].isin([query_cleaned[i]] + query_cleaned[i].split())].copy()\n",
    "        if not df_filtered.empty:\n",
    "            df_filtered['accuracy'] = 100 * df_filtered['alternate_title'].apply(lambda x: Levenshtein.ratio(query_cleaned[i], x))\n",
    "            df_best_match = df_filtered.nlargest(topk, 'accuracy').round(2)\n",
    "            best_results = df_best_match[['realName', 'accuracy']].to_dict('records')\n",
    "        else:\n",
    "            best_results = [{'realName':'NOT FOUND', 'accuracy': 0}]\n",
    "        \n",
    "        results.append(\n",
    "            {\n",
    "                'name': query[i],\n",
    "                'realName': best_results[0]['realName'],\n",
    "                'accuracy': best_results[0]['accuracy'],\n",
    "                'topk': best_results\n",
    "            }\n",
    "        )\n",
    "    return results\n",
    "\n",
    "\n",
    "def clean_query_v2(query:str):\n",
    "    \"\"\"\n",
    "    Cleaning of a company name\n",
    "    \n",
    "    Parameters\n",
    "    ----------\n",
    "    \n",
    "    query : str\n",
    "        A company names\n",
    "    \n",
    "    Returns\n",
    "    -------\n",
    "    \n",
    "    query_cleaned : str\n",
    "        Company names cleaned\n",
    "        \n",
    "    \"\"\"\n",
    "    patterns = r\"\"\"[!+?:\"\\,<>\\\\(){}@%$#=*/[/-]\"\"\"\n",
    "    stpwrds = stopwords.words('spanish') + stopwords.words('english')\n",
    "    query_lst = re.sub(patterns, \" \", query.lower())\n",
    "    query_lst = [x for x in query_lst.split() if x not in stpwrds]\n",
    "    query_cleaned = ' '.join(w for w in query_lst)\n",
    "    return query_cleaned\n",
    "\n",
    "\n",
    "def apply_fuzzy_matching_levenshtein_v2(df, query:str, topk=5):\n",
    "    \"\"\"\n",
    "    Applies fuzzy-matching (Levenshtein) to a company name to find the main name of the companies\n",
    "    \n",
    "    Parameters\n",
    "    ----------\n",
    "    \n",
    "    df : Pandas DataFrame\n",
    "        Company names dictionary dataframe\n",
    "        \n",
    "    query : str\n",
    "        A company name\n",
    "    \n",
    "    topk : int (default=5)\n",
    "        Number of the most probable matches to return per company name\n",
    "        \n",
    "    Returns\n",
    "    -------\n",
    "    \n",
    "    results: dict\n",
    "        Dictionary with the topk best results for the company name\n",
    "    \n",
    "    \"\"\"\n",
    "    query_cleaned = clean_query_v2(query)    \n",
    "    df_filtered = df[df[\"alternate_title\"].isin([query_cleaned] + query_cleaned.split())].copy()\n",
    "    if not df_filtered.empty:\n",
    "        df_filtered['accuracy'] = 100 * df_filtered['alternate_title'].apply(lambda x: Levenshtein.ratio(query_cleaned, x))\n",
    "        df_best_match = df_filtered.nlargest(topk, 'accuracy').round(2)\n",
    "        best_results = df_best_match[['realName', 'accuracy']].to_dict('records')\n",
    "    else:\n",
    "        best_results = [{'realName':'NOT FOUND', 'accuracy': 0}]\n",
    "        \n",
    "    results = {\n",
    "                'name': query,\n",
    "                'realName': best_results[0]['realName'],\n",
    "                'accuracy': best_results[0]['accuracy'],\n",
    "                'topk': best_results\n",
    "              }\n",
    "    return results"
   ]
  },
  {
   "cell_type": "markdown",
   "metadata": {},
   "source": [
    "### Load the company dictionary dataset"
   ]
  },
  {
   "cell_type": "code",
   "execution_count": 3,
   "metadata": {},
   "outputs": [
    {
     "name": "stdout",
     "output_type": "stream",
     "text": [
      "Dataframe loaded and processed in 0.36 s\n",
      "Number of samples: 399056\n",
      "This is a sample:\n"
     ]
    },
    {
     "data": {
      "text/html": [
       "<div>\n",
       "<style scoped>\n",
       "    .dataframe tbody tr th:only-of-type {\n",
       "        vertical-align: middle;\n",
       "    }\n",
       "\n",
       "    .dataframe tbody tr th {\n",
       "        vertical-align: top;\n",
       "    }\n",
       "\n",
       "    .dataframe thead th {\n",
       "        text-align: right;\n",
       "    }\n",
       "</style>\n",
       "<table border=\"1\" class=\"dataframe\">\n",
       "  <thead>\n",
       "    <tr style=\"text-align: right;\">\n",
       "      <th></th>\n",
       "      <th>id</th>\n",
       "      <th>realName</th>\n",
       "      <th>alternate_title</th>\n",
       "    </tr>\n",
       "  </thead>\n",
       "  <tbody>\n",
       "    <tr>\n",
       "      <th>0</th>\n",
       "      <td>385015</td>\n",
       "      <td>Zaker</td>\n",
       "      <td>zaker</td>\n",
       "    </tr>\n",
       "    <tr>\n",
       "      <th>1</th>\n",
       "      <td>101222</td>\n",
       "      <td>Yellow Free Economic Zone</td>\n",
       "      <td>yellow free economic zone</td>\n",
       "    </tr>\n",
       "    <tr>\n",
       "      <th>2</th>\n",
       "      <td>302411</td>\n",
       "      <td>Kakaopay</td>\n",
       "      <td>kakaopay</td>\n",
       "    </tr>\n",
       "    <tr>\n",
       "      <th>3</th>\n",
       "      <td>287632</td>\n",
       "      <td>Kamry</td>\n",
       "      <td>kamry</td>\n",
       "    </tr>\n",
       "    <tr>\n",
       "      <th>4</th>\n",
       "      <td>352916</td>\n",
       "      <td>Rainist</td>\n",
       "      <td>rainist</td>\n",
       "    </tr>\n",
       "  </tbody>\n",
       "</table>\n",
       "</div>"
      ],
      "text/plain": [
       "       id                      realName               alternate_title\n",
       "0  385015                         Zaker                         zaker\n",
       "1  101222    Yellow Free Economic Zone     yellow free economic zone \n",
       "2  302411                     Kakaopay                      kakaopay \n",
       "3  287632                    Kamry                         kamry     \n",
       "4  352916                       Rainist                       rainist"
      ]
     },
     "execution_count": 3,
     "metadata": {},
     "output_type": "execute_result"
    }
   ],
   "source": [
    "main_dir = os.path.abspath(os.path.join(os.getcwd(), os.pardir))\n",
    "\n",
    "path = os.path.join(main_dir, 'data', 'cleaned', 'companies_fuzzy_v3.csv')\n",
    "\n",
    "t1 = time.time()\n",
    "df = pd.read_csv(path)\n",
    "df.rename(columns={'title':'realName'}, inplace=True)\n",
    "t2 = time.time()\n",
    "\n",
    "print('Dataframe loaded and processed in {:.2f} s'.format(t2 - t1))\n",
    "print('Number of samples: {}'.format(df.shape[0]))\n",
    "print('This is a sample:')\n",
    "df.head(5)"
   ]
  },
  {
   "cell_type": "markdown",
   "metadata": {},
   "source": [
    "### Load a sample of company names from Indeed for testing"
   ]
  },
  {
   "cell_type": "code",
   "execution_count": 4,
   "metadata": {},
   "outputs": [
    {
     "name": "stdout",
     "output_type": "stream",
     "text": [
      "Dataframe loaded and processed in 0.00 s\n",
      "Number of samples: 997\n",
      "This is a sample:\n"
     ]
    },
    {
     "data": {
      "text/html": [
       "<div>\n",
       "<style scoped>\n",
       "    .dataframe tbody tr th:only-of-type {\n",
       "        vertical-align: middle;\n",
       "    }\n",
       "\n",
       "    .dataframe tbody tr th {\n",
       "        vertical-align: top;\n",
       "    }\n",
       "\n",
       "    .dataframe thead th {\n",
       "        text-align: right;\n",
       "    }\n",
       "</style>\n",
       "<table border=\"1\" class=\"dataframe\">\n",
       "  <thead>\n",
       "    <tr style=\"text-align: right;\">\n",
       "      <th></th>\n",
       "      <th>company</th>\n",
       "    </tr>\n",
       "  </thead>\n",
       "  <tbody>\n",
       "    <tr>\n",
       "      <th>0</th>\n",
       "      <td>General Dynamics Information Technology</td>\n",
       "    </tr>\n",
       "    <tr>\n",
       "      <th>1</th>\n",
       "      <td>Acadia Healthcare</td>\n",
       "    </tr>\n",
       "    <tr>\n",
       "      <th>2</th>\n",
       "      <td>Connecticut Counseling Centers, Inc</td>\n",
       "    </tr>\n",
       "    <tr>\n",
       "      <th>3</th>\n",
       "      <td>Sprint</td>\n",
       "    </tr>\n",
       "    <tr>\n",
       "      <th>4</th>\n",
       "      <td>Sutherland</td>\n",
       "    </tr>\n",
       "  </tbody>\n",
       "</table>\n",
       "</div>"
      ],
      "text/plain": [
       "                                   company\n",
       "0  General Dynamics Information Technology\n",
       "1                        Acadia Healthcare\n",
       "2      Connecticut Counseling Centers, Inc\n",
       "3                                   Sprint\n",
       "4                               Sutherland"
      ]
     },
     "execution_count": 4,
     "metadata": {},
     "output_type": "execute_result"
    }
   ],
   "source": [
    "path = os.path.join(main_dir, 'data', 'indeed_sample', 'indeed_sample_companies.csv')\n",
    "\n",
    "t1 = time.time()\n",
    "indeed_df = pd.read_csv(path)\n",
    "t2 = time.time()\n",
    "\n",
    "query = indeed_df.company.values.tolist()\n",
    "\n",
    "print('Dataframe loaded and processed in {:.2f} s'.format(t2 - t1))\n",
    "print('Number of samples: {}'.format(indeed_df.shape[0]))\n",
    "print('This is a sample:')\n",
    "indeed_df.head(5)"
   ]
  },
  {
   "cell_type": "markdown",
   "metadata": {},
   "source": [
    "### Fuzzy-Matching with Levenshtein (\"v1\" version: list of strings as input)"
   ]
  },
  {
   "cell_type": "code",
   "execution_count": 5,
   "metadata": {},
   "outputs": [
    {
     "name": "stdout",
     "output_type": "stream",
     "text": [
      "Number of samples in dictionary: 399056\n",
      "\n",
      "Returning up to top_k=5 results per company name...\n",
      "\n",
      "- Procesed 997 samples in 13.25671 s\n",
      "- Procesed 1 sample in 0.01330 s\n",
      "\n"
     ]
    }
   ],
   "source": [
    "# topk indicates the number of results per company\n",
    "topk = 5\n",
    "\n",
    "t1 = time.time()\n",
    "results_v1 = apply_fuzzy_matching_levenshtein_v1(df, query, topk)\n",
    "t2 = time.time()\n",
    "\n",
    "num = len(query)\n",
    "t = t2 - t1\n",
    "print('Number of samples in dictionary: {}\\n'.format(df.shape[0]))\n",
    "print('Returning up to top_k={} results per company name...\\n'.format(topk))\n",
    "print('- Procesed {} samples in {:.5f} s\\n- Procesed 1 sample in {:.5f} s\\n'.format(num, t, float(t / num)))"
   ]
  },
  {
   "cell_type": "markdown",
   "metadata": {},
   "source": [
    "**This is what a result looks like for a company:**"
   ]
  },
  {
   "cell_type": "code",
   "execution_count": 6,
   "metadata": {},
   "outputs": [
    {
     "data": {
      "text/plain": [
       "[{'name': 'General Dynamics Information Technology',\n",
       "  'realName': 'Gdit',\n",
       "  'accuracy': 100.0,\n",
       "  'topk': [{'realName': 'Gdit', 'accuracy': 100.0},\n",
       "   {'realName': 'Information', 'accuracy': 44.0},\n",
       "   {'realName': 'Technology', 'accuracy': 40.82},\n",
       "   {'realName': 'Between', 'accuracy': 40.82},\n",
       "   {'realName': 'Dynamics', 'accuracy': 34.04}]}]"
      ]
     },
     "execution_count": 6,
     "metadata": {},
     "output_type": "execute_result"
    }
   ],
   "source": [
    "# Example\n",
    "k = 1\n",
    "company_ex = results_v1[:k]\n",
    "company_ex "
   ]
  },
  {
   "cell_type": "markdown",
   "metadata": {},
   "source": [
    "### Fuzzy-Matching with Levenshtein (\"v2\" version: an strings as input)"
   ]
  },
  {
   "cell_type": "code",
   "execution_count": 7,
   "metadata": {},
   "outputs": [
    {
     "name": "stdout",
     "output_type": "stream",
     "text": [
      "Number of samples in corpus: 399056\n",
      "\n",
      "Returning up to top_k=5 results per company name...\n",
      "\n",
      "- Procesed 997 samples in 13.51770 s\n",
      "- Procesed 1 sample in 0.01356 s\n",
      "\n"
     ]
    }
   ],
   "source": [
    "# topk indicates the number of results per company\n",
    "topk = 5\n",
    "results_v2 = []\n",
    "\n",
    "t1 = time.time()\n",
    "for company in query:\n",
    "    res_company = apply_fuzzy_matching_levenshtein_v2(df, company, topk)\n",
    "    results_v2.append(res_company)\n",
    "t2 = time.time()\n",
    "\n",
    "num = len(query)\n",
    "t = t2 - t1\n",
    "print('Number of samples in corpus: {}\\n'.format(df.shape[0]))\n",
    "print('Returning up to top_k={} results per company name...\\n'.format(topk))\n",
    "print('- Procesed {} samples in {:.5f} s\\n- Procesed 1 sample in {:.5f} s\\n'.format(num, t, float(t / num)))"
   ]
  },
  {
   "cell_type": "markdown",
   "metadata": {},
   "source": [
    "**This is what a result looks like for a company:**"
   ]
  },
  {
   "cell_type": "code",
   "execution_count": 8,
   "metadata": {},
   "outputs": [
    {
     "data": {
      "text/plain": [
       "[{'name': 'General Dynamics Information Technology',\n",
       "  'realName': 'Gdit',\n",
       "  'accuracy': 100.0,\n",
       "  'topk': [{'realName': 'Gdit', 'accuracy': 100.0},\n",
       "   {'realName': 'Information', 'accuracy': 44.0},\n",
       "   {'realName': 'Technology', 'accuracy': 40.82},\n",
       "   {'realName': 'Between', 'accuracy': 40.82},\n",
       "   {'realName': 'Dynamics', 'accuracy': 34.04}]}]"
      ]
     },
     "execution_count": 8,
     "metadata": {},
     "output_type": "execute_result"
    }
   ],
   "source": [
    "# Example\n",
    "k = 1\n",
    "company_ex = results_v2[:k]\n",
    "company_ex "
   ]
  },
  {
   "cell_type": "markdown",
   "metadata": {},
   "source": [
    "#### CHECK HERE WITH A RANDOM COMPANY NAME"
   ]
  },
  {
   "cell_type": "code",
   "execution_count": 17,
   "metadata": {},
   "outputs": [
    {
     "data": {
      "text/plain": [
       "[{'name': 'apple inc',\n",
       "  'realName': 'Apple Inc',\n",
       "  'accuracy': 100.0,\n",
       "  'topk': [{'realName': 'Apple Inc', 'accuracy': 100.0},\n",
       "   {'realName': 'Dorado', 'accuracy': 71.43},\n",
       "   {'realName': 'Apple', 'accuracy': 71.43},\n",
       "   {'realName': 'My Inc', 'accuracy': 50.0},\n",
       "   {'realName': 'Inc', 'accuracy': 50.0}]}]"
      ]
     },
     "execution_count": 17,
     "metadata": {},
     "output_type": "execute_result"
    }
   ],
   "source": [
    "# Write a company name\n",
    "name = \"apple inc\"\n",
    "\n",
    "query = [name]\n",
    "q_res = apply_fuzzy_matching_levenshtein_v1(df, query, topk=5)\n",
    "q_res"
   ]
  },
  {
   "cell_type": "markdown",
   "metadata": {},
   "source": [
    "### Observations:\n",
    "\n",
    "```\n",
    "* Version \"v1\" (string list as input) is approximately 0.3 s faster than version \"v2\" (string as input) for processing a set of 997 company names extracted from a sample of Indeed data. It is important to mention that as a result the topk=5 best matches per company were returned, and that the fuzzy-matching dictionary has ~400k samples.\n",
    "\n",
    "* There is a linear behaviour between the number of company names to be processed and the execution time of fuzzy-matching with Levenshtein.\n",
    "```"
   ]
  },
  {
   "cell_type": "code",
   "execution_count": null,
   "metadata": {},
   "outputs": [],
   "source": []
  }
 ],
 "metadata": {
  "interpreter": {
   "hash": "7ec4eee48a1b90125fedd080afd04f965bb6f28dbf2886da6c5cfcc343d0a26d"
  },
  "kernelspec": {
   "display_name": "Python 3",
   "language": "python",
   "name": "python3"
  },
  "language_info": {
   "codemirror_mode": {
    "name": "ipython",
    "version": 3
   },
   "file_extension": ".py",
   "mimetype": "text/x-python",
   "name": "python",
   "nbconvert_exporter": "python",
   "pygments_lexer": "ipython3",
   "version": "3.8.8"
  }
 },
 "nbformat": 4,
 "nbformat_minor": 2
}
